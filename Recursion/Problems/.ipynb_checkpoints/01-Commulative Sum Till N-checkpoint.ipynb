{
 "cells": [
  {
   "cell_type": "code",
   "execution_count": 1,
   "metadata": {},
   "outputs": [
    {
     "data": {
      "text/plain": [
       "10"
      ]
     },
     "execution_count": 1,
     "metadata": {},
     "output_type": "execute_result"
    }
   ],
   "source": [
    "def comulative_sum(n):\n",
    "    \"\"\" takes a number n, and return the\n",
    "    commulative sum till n.\n",
    "    e.g if n=4, returns 4+3+2+1+0 which is 10\"\"\"\n",
    "    \n",
    "    if n == 0:\n",
    "        return 0\n",
    "    \n",
    "    else:\n",
    "        return n + comulative_sum(n-1)\n",
    "    \n",
    "comulative_sum(4)"
   ]
  },
  {
   "cell_type": "code",
   "execution_count": null,
   "metadata": {},
   "outputs": [],
   "source": []
  }
 ],
 "metadata": {
  "kernelspec": {
   "display_name": "Python 3",
   "language": "python",
   "name": "python3"
  },
  "language_info": {
   "codemirror_mode": {
    "name": "ipython",
    "version": 3
   },
   "file_extension": ".py",
   "mimetype": "text/x-python",
   "name": "python",
   "nbconvert_exporter": "python",
   "pygments_lexer": "ipython3",
   "version": "3.7.6"
  }
 },
 "nbformat": 4,
 "nbformat_minor": 4
}
