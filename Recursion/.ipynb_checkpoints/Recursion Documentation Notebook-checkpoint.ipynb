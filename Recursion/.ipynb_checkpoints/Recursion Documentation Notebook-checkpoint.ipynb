{
 "cells": [
  {
   "cell_type": "markdown",
   "metadata": {},
   "source": [
    "## What is Recursion:\n",
    "\n",
    "There are two main instances of Recursion:\n",
    "\n",
    "The first is when __Recursion__ is used as a technique in which a function makes one or more calls to itself.\n",
    "\n",
    "The second is when a __Data Structure__ uses smaller instances of the exact same type of data structures when it represents itself.\n",
    "\n",
    "Recusion provides a powerful alternative for performing repetitions of tasks, in which a loop is not ideal. It also serves a a great tool for building out particular __Data Structures__\n",
    "\n",
    "Let's code out a base-case in order to understand it well!"
   ]
  },
  {
   "cell_type": "code",
   "execution_count": 6,
   "metadata": {},
   "outputs": [
    {
     "data": {
      "text/plain": [
       "120"
      ]
     },
     "execution_count": 6,
     "metadata": {},
     "output_type": "execute_result"
    }
   ],
   "source": [
    "def fact(n):\n",
    "    # Edge case\n",
    "    if n == 0:\n",
    "        return 1\n",
    "    # Second Edge case\n",
    "    elif n == 1:\n",
    "        return n \n",
    "    \n",
    "    else:\n",
    "        return n * fact(n-1)\n",
    "    \n",
    "fact(5)"
   ]
  },
  {
   "cell_type": "code",
   "execution_count": 7,
   "metadata": {},
   "outputs": [
    {
     "data": {
      "text/plain": [
       "10"
      ]
     },
     "execution_count": 7,
     "metadata": {},
     "output_type": "execute_result"
    }
   ],
   "source": [
    "def rec_sum(n):\n",
    "    if n == 0:\n",
    "        return 0\n",
    "    elif n == 1:\n",
    "        return 1\n",
    "    else:\n",
    "        return n + rec_sum(n-1)\n",
    "    \n",
    "rec_sum(4)"
   ]
  },
  {
   "cell_type": "code",
   "execution_count": null,
   "metadata": {},
   "outputs": [],
   "source": []
  }
 ],
 "metadata": {
  "kernelspec": {
   "display_name": "Python 3",
   "language": "python",
   "name": "python3"
  },
  "language_info": {
   "codemirror_mode": {
    "name": "ipython",
    "version": 3
   },
   "file_extension": ".py",
   "mimetype": "text/x-python",
   "name": "python",
   "nbconvert_exporter": "python",
   "pygments_lexer": "ipython3",
   "version": "3.6.9"
  }
 },
 "nbformat": 4,
 "nbformat_minor": 2
}
