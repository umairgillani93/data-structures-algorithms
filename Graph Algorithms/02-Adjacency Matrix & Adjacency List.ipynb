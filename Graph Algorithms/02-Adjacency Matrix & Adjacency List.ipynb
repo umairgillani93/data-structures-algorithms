{
 "cells": [
  {
   "cell_type": "markdown",
   "metadata": {},
   "source": [
    "## Adjacency Matrix:\n",
    "\n",
    "One of the easiest ways to implement a _graph_ is to use a _two-dimentional matrix_. In this matrix implementation, each of the _rows_ and _columns_ represent a _vertex_ in the graph.\n",
    "\n",
    "When two _vertices_ are connected by an _edge_ we say that they are _Adjacent_. The advantage of the _Adjancency matrix_ is that, it is simple, and for all the graphs it is easy to see which nodes are connected to other nodes.\n",
    "\n",
    "But most of the cells in _matrix_ are empty, because of this, the matrix is called a __Sparse Matrix__\n",
    "\n",
    "\n",
    "## Adjacency List:\n",
    "\n",
    "A more space-efficient way to implement a _sparsely connected graph_ is to use an _Adjacency list_.\n",
    "\n",
    "In a _Adjacency list_ implementation, we keep a master list of all the _Vertices_ in the graph object, and then each _vertex_ object in the graph maintains a list of other _vertices_ it's connected to. \n",
    "\n",
    "The advantage of _Adjacency list_ is it allows us to compactly represent a _sparse graph_.\n",
    "The _Adjacency list_ also allows us to easily find all the links that are directly connected to a particular _vertex_"
   ]
  },
  {
   "cell_type": "code",
   "execution_count": null,
   "metadata": {},
   "outputs": [],
   "source": []
  }
 ],
 "metadata": {
  "kernelspec": {
   "display_name": "Python 3",
   "language": "python",
   "name": "python3"
  },
  "language_info": {
   "codemirror_mode": {
    "name": "ipython",
    "version": 3
   },
   "file_extension": ".py",
   "mimetype": "text/x-python",
   "name": "python",
   "nbconvert_exporter": "python",
   "pygments_lexer": "ipython3",
   "version": "3.7.6"
  }
 },
 "nbformat": 4,
 "nbformat_minor": 4
}
