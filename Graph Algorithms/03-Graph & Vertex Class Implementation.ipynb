{
 "cells": [
  {
   "cell_type": "markdown",
   "metadata": {},
   "source": [
    "## Graph & Vertex Implementation:\n",
    "\n",
    "Before we implement _Graph_ and _Vertex_ , let's first define what is Graph and what is Vertex..\n",
    "\n",
    "So here, a __Graph__ is as master list of all the __Vertices__ , and a __Vertex__ is a list that holds the information about _edges_ , _weights_ and _neighbours_"
   ]
  },
  {
   "cell_type": "code",
   "execution_count": 16,
   "metadata": {},
   "outputs": [],
   "source": [
    "class Vertex:\n",
    "    def __init__(self, key):\n",
    "        self.name = key \n",
    "        self.connected_to = {}\n",
    "        \n",
    "    def add_neighbour(self, nbr, weight=0):\n",
    "        self.connected_to[nbr] = weight \n",
    "        \n",
    "    def get_connections(self):\n",
    "        return self.connections.keys()\n",
    "    \n",
    "    def get_name(self):\n",
    "        return self.name \n",
    "    \n",
    "    def get_weight(self):\n",
    "        return self.connected_to[nbr]\n",
    "         \n",
    "    def __str__(self):\n",
    "        return \"vertex name: \" + str(self.name) + \" connected to \" \\\n",
    "        +str([x.name for x in self.connected_to])"
   ]
  },
  {
   "cell_type": "code",
   "execution_count": 26,
   "metadata": {},
   "outputs": [],
   "source": [
    "class Graph:\n",
    "    def __init__(self):\n",
    "        self.vertex_list = []\n",
    "        self.num_vertices = 0 \n",
    "        \n",
    "    def add_vertex(self, name):\n",
    "        self.num_vertices += 1\n",
    "        new_vertex = Vertex(name) # instantiates the Vertex class \n",
    "        self.vertex_list[name] = new_vertex \n",
    "        \n",
    "        return new_vertex \n",
    "    \n",
    "    def get_vertex(self, n):\n",
    "        if n in self.vertex_list:\n",
    "            return self.vertex_list[n]\n",
    "        \n",
    "        return None \n",
    "    \n",
    "    def add_edge(self, f, t, cost=0):\n",
    "        if f not in self.vertex_list:\n",
    "            new_vert = self.add_vertex(f)\n",
    "            \n",
    "        if t not in self.vertex_list:\n",
    "            new_vert = self.add_vertex(t)\n",
    "            \n",
    "        self.vertex_list[f].add_neighbour(self.vertex_list[t], cost)\n",
    "    \n",
    "    def get_vertices(self):\n",
    "        return self.vertex_list.keys()\n",
    "    \n",
    "    def __contains__(self, n):\n",
    "        if n == True:\n",
    "            return  self.vertex_list\n",
    "    "
   ]
  },
  {
   "cell_type": "code",
   "execution_count": 27,
   "metadata": {},
   "outputs": [],
   "source": [
    "g = Graph()"
   ]
  },
  {
   "cell_type": "code",
   "execution_count": null,
   "metadata": {},
   "outputs": [],
   "source": []
  }
 ],
 "metadata": {
  "kernelspec": {
   "display_name": "Python 3",
   "language": "python",
   "name": "python3"
  },
  "language_info": {
   "codemirror_mode": {
    "name": "ipython",
    "version": 3
   },
   "file_extension": ".py",
   "mimetype": "text/x-python",
   "name": "python",
   "nbconvert_exporter": "python",
   "pygments_lexer": "ipython3",
   "version": "3.7.6"
  }
 },
 "nbformat": 4,
 "nbformat_minor": 4
}
