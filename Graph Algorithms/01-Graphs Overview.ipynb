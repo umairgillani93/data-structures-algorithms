{
 "cells": [
  {
   "cell_type": "markdown",
   "metadata": {},
   "source": [
    "## Graphs Overview:\n",
    "\n",
    "__Graphs__ are more general structure than _trees_, we can think of a _tree_ as a special kind of _graph_. Graphs can be used to represent many real-world things such as, roads, air-flights, how the internet is connected etc.\n",
    "\n",
    "Computers can operate well with information presented as _graph_\n",
    "\n",
    "\n",
    "## Graph Components:\n",
    "\n",
    "### Vertex:\n",
    "A __Vertex__ also known as _node_ is a fundamental part of a _graph_, it can have name which we call _the key_. A vertex also has some additional information which we call the __payload__.\n",
    "\n",
    "### Edge:\n",
    "An __Edge__ connects two _vertices_ to show that there is some kind of relationship b/w them. Edge may be one-way or two-way. If the _edges_ in graph are all _one-way_ we call that graph a _directed graph_ or _digraph_. Edges may be _weighted_ to show that their is some _cost_ to go from one vertex to another. Graph representation -> __G = (V,E); where V is a set of _vertices_ and E is set of Edges__\n",
    "\n",
    "Each _Edge_ is a tuple __(v,w)__ where w,v belongs to __V__. A __sub-graph__ \"S\" is a set of _vertices_ \"V\" and _edges_ \"E\"\n",
    "\n",
    "### Path:\n",
    "A _path_ in a graph is a sequence of _vertices_ that are connected by _edges_. The __unweighted__ path is the _number of edges_ in the path, specifically __n-1__, and the __weighted__ path is the _sum of the weights_ of all the edges in the path.\n",
    "A _cycle_ in a directed graph is a path that starts and ends at the same vertex\n",
    "\n",
    "A graph with no cycles is called a __acyclic graph__, and a directed graph with no _cycles_ is called "
   ]
  },
  {
   "cell_type": "code",
   "execution_count": null,
   "metadata": {},
   "outputs": [],
   "source": []
  }
 ],
 "metadata": {
  "kernelspec": {
   "display_name": "Python 3",
   "language": "python",
   "name": "python3"
  },
  "language_info": {
   "codemirror_mode": {
    "name": "ipython",
    "version": 3
   },
   "file_extension": ".py",
   "mimetype": "text/x-python",
   "name": "python",
   "nbconvert_exporter": "python",
   "pygments_lexer": "ipython3",
   "version": "3.7.6"
  }
 },
 "nbformat": 4,
 "nbformat_minor": 4
}
