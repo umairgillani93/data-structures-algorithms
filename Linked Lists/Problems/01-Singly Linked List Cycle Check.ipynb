{
 "cells": [
  {
   "cell_type": "code",
   "execution_count": 1,
   "metadata": {},
   "outputs": [],
   "source": [
    "def cycle_check(node):\n",
    "    \n",
    "    marker_1 = node \n",
    "    marker_2 = node \n",
    "    \n",
    "    while marker_2 != None and marker_2.nextnode != None:\n",
    "        marker_1 = marker_1.nextnode \n",
    "        marker_2 = marker_2.nextnode.nextnode \n",
    "        \n",
    "        if marker_2 == marker_2:\n",
    "            return True\n",
    "        \n",
    "    return False"
   ]
  },
  {
   "cell_type": "code",
   "execution_count": 2,
   "metadata": {},
   "outputs": [],
   "source": [
    "class Node(object):\n",
    "    def __init__(self, value):\n",
    "        self.value = value \n",
    "        self.nexnode = None "
   ]
  }
 ],
 "metadata": {
  "kernelspec": {
   "display_name": "Python 3",
   "language": "python",
   "name": "python3"
  },
  "language_info": {
   "codemirror_mode": {
    "name": "ipython",
    "version": 3
   },
   "file_extension": ".py",
   "mimetype": "text/x-python",
   "name": "python",
   "nbconvert_exporter": "python",
   "pygments_lexer": "ipython3",
   "version": "3.7.6"
  }
 },
 "nbformat": 4,
 "nbformat_minor": 4
}
