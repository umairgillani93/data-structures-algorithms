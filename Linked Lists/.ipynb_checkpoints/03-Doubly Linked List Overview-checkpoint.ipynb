{
 "cells": [
  {
   "cell_type": "markdown",
   "metadata": {},
   "source": [
    "##  Doubly Linked List:\n",
    "\n",
    "In a doubly linked list, we define a linked list __in which each node keeps an explicit reference to the node before it and a referece to the node after it__.\n",
    "\n",
    "These linked lists allow __O(n)__ time operations, including insertions and deletions. \n",
    "\n",
    "Every insertion into our _doubly linked list_ will take place between a pair of existing nodes. When a new node is inserted at the front of the sequence, we will simply add the new node between the __header__ and the node that is currently after the header."
   ]
  }
 ],
 "metadata": {
  "kernelspec": {
   "display_name": "Python 3",
   "language": "python",
   "name": "python3"
  },
  "language_info": {
   "codemirror_mode": {
    "name": "ipython",
    "version": 3
   },
   "file_extension": ".py",
   "mimetype": "text/x-python",
   "name": "python",
   "nbconvert_exporter": "python",
   "pygments_lexer": "ipython3",
   "version": "3.7.6"
  }
 },
 "nbformat": 4,
 "nbformat_minor": 4
}
