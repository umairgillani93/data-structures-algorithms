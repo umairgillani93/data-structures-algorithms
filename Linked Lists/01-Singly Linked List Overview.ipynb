{
 "cells": [
  {
   "cell_type": "markdown",
   "metadata": {},
   "source": [
    "## Singly Linked List:\n",
    "\n",
    "A __Singly linked list__ is it's simplest form is a collection of __nodes__ that collectively form a linear sequence. \n",
    "\n",
    "Each node stores a reference to an object that is an element of the sequence, as well as the reference to the __next node__.\n",
    "The list instance maintains a memeber named __head__ that identifies the first node of the list. In some application, another member named __tail__ that identifies the last node of the list.\n",
    "\n",
    "We can identify the __tail__ as the node having __None__ as it's next reference. This process is commonly known as __Traversing__ the linked list.\n",
    "\n",
    "Since, the next reference of a node can be viewed as a __link__ or __pointer__ to another node, the process of traversing a list is known as __pointer hopping__ or __link hopping__\n",
    "\n",
    "A linked list does not have a fixed/predefined size, instead it uses space proportionality to its current number of elements."
   ]
  },
  {
   "cell_type": "markdown",
   "metadata": {},
   "source": [
    "## Linked List Operations:\n",
    "\n",
    "To insert a new element in at the head of a linked list:\n",
    "* We create a new node \n",
    "* Set its element to the new element \n",
    "* Set its next link to refer to the current head \n",
    "* Then set the list's head to point to the new node.\n",
    "\n",
    "To insert node at the tail, we need to do the following:\n",
    "* Create a node \n",
    "* Assign it's next reference to __None__\n",
    "* Set the next reference of the tail to point to this new node \n",
    "* Then update the tail reference itself to this new node.\n",
    "\n",
    "Removing an element from the __head__ of the singly linked list is essentially the reverse operation of inserting a new element at the head.\n",
    "\n",
    "We can not easily delete the last node of _singly linked list_. Even if we  maintain a tail reference  directly to the last node of the list, we must be able to access the node before the last node in order to remove the last node "
   ]
  },
  {
   "cell_type": "markdown",
   "metadata": {},
   "source": [
    "## Pros:\n",
    "\n",
    "* Linked lists have constant-time insertions and deletions in any position, in comparison, arrays require O(n) time to do the same thing.\n",
    "* Linked list can continue to expand without having to specify their size ahead of time.\n",
    "\n",
    "## Cons:\n",
    "\n",
    "* To access an element in a linked list, you need to take O(k) time to go from the head of the list to the kth element. In contrast, arrays have contant-time operations to access elements in array."
   ]
  },
  {
   "cell_type": "code",
   "execution_count": null,
   "metadata": {},
   "outputs": [],
   "source": []
  }
 ],
 "metadata": {
  "kernelspec": {
   "display_name": "Python 3",
   "language": "python",
   "name": "python3"
  },
  "language_info": {
   "codemirror_mode": {
    "name": "ipython",
    "version": 3
   },
   "file_extension": ".py",
   "mimetype": "text/x-python",
   "name": "python",
   "nbconvert_exporter": "python",
   "pygments_lexer": "ipython3",
   "version": "3.7.6"
  }
 },
 "nbformat": 4,
 "nbformat_minor": 4
}
