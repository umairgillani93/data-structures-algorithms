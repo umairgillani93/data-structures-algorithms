{
 "cells": [
  {
   "cell_type": "markdown",
   "metadata": {},
   "source": [
    "## Hashing:\n",
    "\n",
    "We've seen how to improve search by knowing about structures beforehand.\n",
    "We can build a data structure that can be search in __O(1)__ time. This concept is called __hashing__.\n",
    "\n",
    "A __hash table__ is a collection of items which are stored in such a way as to make it easy to find them later. Each position of the _hash table_ slots can hold a item and is named by an _integer_ value starting at 0.\n",
    "\n",
    "For example; we will have a _slot_ named 0, a slot named 1, a slot named 2 and so on.. Initially, the hash table contains no items  so every slot is empty. \n",
    "\n",
    "We can implement a hash table by using a __list__ with each element initialized to the special _Python_ value __None__."
   ]
  },
  {
   "cell_type": "markdown",
   "metadata": {},
   "source": [
    "## Implementing a Hash-table:"
   ]
  },
  {
   "cell_type": "code",
   "execution_count": 5,
   "metadata": {},
   "outputs": [],
   "source": [
    "class HashTable(object):\n",
    "    def __init__(self, size):\n",
    "        self.size = size \n",
    "        self.slots = [None] * self.size \n",
    "        self.data = [None] * self.size \n",
    "        \n",
    "    def put(self, key, data):\n",
    "        hash_value = self.hashfunction(key, len(self.slots))\n",
    "        \n",
    "        if self.slots[hash_value] == None:\n",
    "            self.slots[hash_value] = key \n",
    "            self.data[hash_value] = data \n",
    "            \n",
    "        else:\n",
    "            nextslot = self.rehash(hash_value, len(self.slots))\n",
    "            \n",
    "            while self.slots[nextslot] != None and self.slots[nextslot] \\\n",
    "            != key:\n",
    "                nextslot = self.rehash(nextslot, len(self.slots))\n",
    "                \n",
    "            if self.slots[nextslot] == None:\n",
    "                self.slots[nextslot] = key\n",
    "                self.data[nextslot] = data\n",
    "                \n",
    "            else:\n",
    "                self.data [nextslot] == data \n",
    "            \n",
    "    def hashfunction(self, key, size):\n",
    "        return key % size \n",
    "    \n",
    "    \n",
    "    def rehash(self, oldhash, size):\n",
    "        return (oldhash + 1) % size \n",
    "    \n",
    "    def get(self, key):\n",
    "        startslot = self.hashfunction(key, len(self.slots))\n",
    "        data = None \n",
    "        stop = False \n",
    "        found = False \n",
    "        position = startslot \n",
    "        \n",
    "        while self.slots[position] != None \\\n",
    "        and not found \\\n",
    "        and not stop:\n",
    "            if self.slots[position] == key:\n",
    "                found = True \n",
    "                data = self.data[position]\n",
    "                \n",
    "            else:\n",
    "                position = self.rehash(position, len(self.slots))\n",
    "                if position == startslot:\n",
    "                    stop = True \n",
    "                    \n",
    "        return data \n",
    "    \n",
    "    def __getitem__(self, key):\n",
    "        return self.get(key)\n",
    "    \n",
    "    def __setitem__(self, key, data):\n",
    "        self.put(key, data)"
   ]
  },
  {
   "cell_type": "code",
   "execution_count": 6,
   "metadata": {},
   "outputs": [],
   "source": [
    "h = HashTable(5)"
   ]
  },
  {
   "cell_type": "code",
   "execution_count": 7,
   "metadata": {},
   "outputs": [],
   "source": [
    "h[1] = 'One'"
   ]
  },
  {
   "cell_type": "code",
   "execution_count": 8,
   "metadata": {},
   "outputs": [],
   "source": [
    "h[2] = 'Two'"
   ]
  },
  {
   "cell_type": "code",
   "execution_count": 9,
   "metadata": {},
   "outputs": [],
   "source": [
    "h[3] = 'Three'"
   ]
  },
  {
   "cell_type": "code",
   "execution_count": 10,
   "metadata": {},
   "outputs": [
    {
     "data": {
      "text/plain": [
       "'One'"
      ]
     },
     "execution_count": 10,
     "metadata": {},
     "output_type": "execute_result"
    }
   ],
   "source": [
    "h[1]"
   ]
  },
  {
   "cell_type": "code",
   "execution_count": 11,
   "metadata": {},
   "outputs": [
    {
     "data": {
      "text/plain": [
       "'Two'"
      ]
     },
     "execution_count": 11,
     "metadata": {},
     "output_type": "execute_result"
    }
   ],
   "source": [
    "h[2]"
   ]
  },
  {
   "cell_type": "code",
   "execution_count": null,
   "metadata": {},
   "outputs": [],
   "source": []
  }
 ],
 "metadata": {
  "kernelspec": {
   "display_name": "Python 3",
   "language": "python",
   "name": "python3"
  },
  "language_info": {
   "codemirror_mode": {
    "name": "ipython",
    "version": 3
   },
   "file_extension": ".py",
   "mimetype": "text/x-python",
   "name": "python",
   "nbconvert_exporter": "python",
   "pygments_lexer": "ipython3",
   "version": "3.7.6"
  }
 },
 "nbformat": 4,
 "nbformat_minor": 4
}
