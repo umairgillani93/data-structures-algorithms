{
 "cells": [
  {
   "cell_type": "markdown",
   "metadata": {},
   "source": [
    "## Shell Sort:\n",
    "\n",
    "_Shell sort_ improves on the _insertion sort_ by breaking the list into a number of smaller sublists.\n",
    "\n",
    "The unique way at this sublists are chosen is the key to shell sort. Instead breaking the list into list of _contiguous_ items the shell sort uses an increment __i__ to create a sublist by choosing all items that are __i__ items apart."
   ]
  },
  {
   "cell_type": "markdown",
   "metadata": {},
   "source": [
    "## Shell Sort Implementation:"
   ]
  },
  {
   "cell_type": "code",
   "execution_count": 2,
   "metadata": {},
   "outputs": [],
   "source": [
    "def shell_sort(arr):\n",
    "    sublist_cnt = len(arr) // 2\n",
    "    while sublist_cnt > 0:\n",
    "        for start in range(sublist_cnt):\n",
    "            gap_insertion_sort(arr, start, sublist_cnt)\n",
    "                \n",
    "        sublist_cnt = sublist_cnt //2 \n",
    "        \n",
    "def gap_insertion_sort(arr, start, gap):\n",
    "    for i in range(start + gap, len(arr), gap):\n",
    "        curr_value = arr[i]\n",
    "        position = i\n",
    "        while position >= gap and arr[position-gap] > curr_value:\n",
    "            arr[position] = arr[position-gap]\n",
    "            position = position-gap \n",
    "            \n",
    "        arr[position] = curr_value\n"
   ]
  },
  {
   "cell_type": "code",
   "execution_count": 4,
   "metadata": {},
   "outputs": [
    {
     "data": {
      "text/plain": [
       "[2, 6, 23, 23, 93, 384, 394]"
      ]
     },
     "execution_count": 4,
     "metadata": {},
     "output_type": "execute_result"
    }
   ],
   "source": [
    "arr = [23, 384, 23, 2, 6, 93 ,394]\n",
    "shell_sort(arr)\n",
    "arr"
   ]
  },
  {
   "cell_type": "code",
   "execution_count": null,
   "metadata": {},
   "outputs": [],
   "source": []
  }
 ],
 "metadata": {
  "kernelspec": {
   "display_name": "Python 3",
   "language": "python",
   "name": "python3"
  },
  "language_info": {
   "codemirror_mode": {
    "name": "ipython",
    "version": 3
   },
   "file_extension": ".py",
   "mimetype": "text/x-python",
   "name": "python",
   "nbconvert_exporter": "python",
   "pygments_lexer": "ipython3",
   "version": "3.7.6"
  }
 },
 "nbformat": 4,
 "nbformat_minor": 4
}
