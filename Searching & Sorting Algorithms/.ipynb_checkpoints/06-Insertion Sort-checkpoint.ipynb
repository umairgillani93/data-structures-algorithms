{
 "cells": [
  {
   "cell_type": "markdown",
   "metadata": {},
   "source": [
    "## Insertion Sort:\n",
    "\n",
    "The _insertion sort_ always maintains a sorted sublist in lower postions of the list.\n",
    "Each new item is then _inserted_ back into the previous sublist such that the _sorted sublist_ is one item larger.\n",
    "\n",
    "we begin with a list with __single__ item which is already sorted. On each pass one for each item 1 through _n-1_ the current item is checked agains those in sorted sublist.\n",
    "As we look back in already sorted sublist we shift those items that are greater to the right. \n",
    "when we reach at the smaller item or the end of a sublist, the current item can be inserted"
   ]
  },
  {
   "cell_type": "markdown",
   "metadata": {},
   "source": [
    "## Insertion Sort Implementation:"
   ]
  },
  {
   "cell_type": "code",
   "execution_count": 5,
   "metadata": {},
   "outputs": [],
   "source": [
    "def insertion_sort(arr):\n",
    "    for i in range(1, len(arr)):\n",
    "        print(i)\n",
    "        curr_value = arr[i]\n",
    "        position = i \n",
    "        while position > 0  and arr[position - 1] > curr_value: \n",
    "            arr[position] = arr[position -1]\n",
    "            position = position - 1\n",
    "            \n",
    "        arr[position] = curr_value"
   ]
  },
  {
   "cell_type": "code",
   "execution_count": 6,
   "metadata": {},
   "outputs": [
    {
     "name": "stdout",
     "output_type": "stream",
     "text": [
      "1\n",
      "2\n",
      "3\n",
      "4\n",
      "5\n",
      "6\n",
      "7\n"
     ]
    },
    {
     "data": {
      "text/plain": [
       "[1, 2, 3, 3, 4, 9, 9, 11]"
      ]
     },
     "execution_count": 6,
     "metadata": {},
     "output_type": "execute_result"
    }
   ],
   "source": [
    "array = [1,3,9,3,4,2,9,11]\n",
    "insertion_sort(array)\n",
    "\n",
    "array"
   ]
  },
  {
   "cell_type": "code",
   "execution_count": null,
   "metadata": {},
   "outputs": [],
   "source": []
  }
 ],
 "metadata": {
  "kernelspec": {
   "display_name": "Python 3",
   "language": "python",
   "name": "python3"
  },
  "language_info": {
   "codemirror_mode": {
    "name": "ipython",
    "version": 3
   },
   "file_extension": ".py",
   "mimetype": "text/x-python",
   "name": "python",
   "nbconvert_exporter": "python",
   "pygments_lexer": "ipython3",
   "version": "3.7.6"
  }
 },
 "nbformat": 4,
 "nbformat_minor": 4
}
