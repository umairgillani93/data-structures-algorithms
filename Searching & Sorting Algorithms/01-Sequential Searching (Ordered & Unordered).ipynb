{
 "cells": [
  {
   "cell_type": "markdown",
   "metadata": {},
   "source": [
    "## Sequential Search:"
   ]
  },
  {
   "cell_type": "code",
   "execution_count": 7,
   "metadata": {},
   "outputs": [],
   "source": [
    "def seq_search(arr, element):\n",
    "    \n",
    "    idx = 0\n",
    "    found = False \n",
    "    \n",
    "    while idx < len(arr) and not found:\n",
    "        if arr[idx] == element:\n",
    "            found = True \n",
    "        else:\n",
    "            idx += 1\n",
    "            \n",
    "    return found "
   ]
  },
  {
   "cell_type": "code",
   "execution_count": 8,
   "metadata": {},
   "outputs": [
    {
     "data": {
      "text/plain": [
       "True"
      ]
     },
     "execution_count": 8,
     "metadata": {},
     "output_type": "execute_result"
    }
   ],
   "source": [
    "seq_search([1,2,3,8, 4,11], 3)"
   ]
  },
  {
   "cell_type": "code",
   "execution_count": 9,
   "metadata": {},
   "outputs": [],
   "source": [
    "def ordered_seq_search(arr, element):\n",
    "    pos = 0 \n",
    "    found = False\n",
    "    stop = False \n",
    "    \n",
    "    while pos < len(arr) and not found and not stop:\n",
    "        if arr[pos] == element:\n",
    "            found = True \n",
    "            \n",
    "        else:\n",
    "            if arr[pos] > element:\n",
    "                stop = True \n",
    "                \n",
    "            pos += 1\n",
    "            \n",
    "    return found, stop "
   ]
  },
  {
   "cell_type": "code",
   "execution_count": 10,
   "metadata": {},
   "outputs": [
    {
     "data": {
      "text/plain": [
       "(False, False)"
      ]
     },
     "execution_count": 10,
     "metadata": {},
     "output_type": "execute_result"
    }
   ],
   "source": [
    "ordered_seq_search([22,23,25,29], 69)"
   ]
  },
  {
   "cell_type": "code",
   "execution_count": null,
   "metadata": {},
   "outputs": [],
   "source": []
  }
 ],
 "metadata": {
  "kernelspec": {
   "display_name": "Python 3",
   "language": "python",
   "name": "python3"
  },
  "language_info": {
   "codemirror_mode": {
    "name": "ipython",
    "version": 3
   },
   "file_extension": ".py",
   "mimetype": "text/x-python",
   "name": "python",
   "nbconvert_exporter": "python",
   "pygments_lexer": "ipython3",
   "version": "3.7.6"
  }
 },
 "nbformat": 4,
 "nbformat_minor": 4
}
