{
 "cells": [
  {
   "cell_type": "markdown",
   "metadata": {},
   "source": [
    "## Selection Sort:\n",
    "\n",
    "Selection sort works in such a way that the __smallest__ element is selected from _unsorted array_ and it is swapped by the element which is on the __zeroth__ index of that array. Once it's done, we look for second __smallest__ element in arary, and swap it with the __first__ index of the same array.\n",
    "\n",
    "The process keeps on repeating untill we get a __sorted array__."
   ]
  },
  {
   "cell_type": "markdown",
   "metadata": {},
   "source": [
    "## Selection Sort Implementation:"
   ]
  },
  {
   "cell_type": "code",
   "execution_count": 5,
   "metadata": {},
   "outputs": [
    {
     "data": {
      "text/plain": [
       "[1, 3, 4, 7, 9, 11]"
      ]
     },
     "execution_count": 5,
     "metadata": {},
     "output_type": "execute_result"
    }
   ],
   "source": [
    "def selection_sort(arr):\n",
    "    \n",
    "    for fillslot in range(len(arr) - 1, 0, -1):\n",
    "        position_of_max = 0\n",
    "        for location in range(1, fillslot+1):\n",
    "            if arr[location] > arr[position_of_max]:\n",
    "                position_of_max = location \n",
    "                \n",
    "        temp = arr[fillslot]\n",
    "        arr[fillslot] = arr[position_of_max]\n",
    "        arr[position_of_max] = temp \n",
    "        \n",
    "    return arr\n",
    "selection_sort([7,9,3,4,1,11])"
   ]
  },
  {
   "cell_type": "code",
   "execution_count": null,
   "metadata": {},
   "outputs": [],
   "source": []
  }
 ],
 "metadata": {
  "kernelspec": {
   "display_name": "Python 3",
   "language": "python",
   "name": "python3"
  },
  "language_info": {
   "codemirror_mode": {
    "name": "ipython",
    "version": 3
   },
   "file_extension": ".py",
   "mimetype": "text/x-python",
   "name": "python",
   "nbconvert_exporter": "python",
   "pygments_lexer": "ipython3",
   "version": "3.7.6"
  }
 },
 "nbformat": 4,
 "nbformat_minor": 4
}
