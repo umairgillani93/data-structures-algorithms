{
 "cells": [
  {
   "cell_type": "code",
   "execution_count": 6,
   "metadata": {},
   "outputs": [],
   "source": [
    "class Node(object):\n",
    "    def __init__(self, key):\n",
    "        self.key = key \n",
    "        self.left = None \n",
    "        self.right = None "
   ]
  },
  {
   "cell_type": "markdown",
   "metadata": {},
   "source": [
    "## Inorder Traversal:\n",
    "\n",
    "* Traverse the left subtree \n",
    "* Visit the root\n",
    "* Traverse the right subtree "
   ]
  },
  {
   "cell_type": "code",
   "execution_count": 2,
   "metadata": {},
   "outputs": [],
   "source": [
    "def inorder_traversal(root):\n",
    "    \n",
    "    if root:\n",
    "        inorder_traversal(root.left)\n",
    "        print(root.key)\n",
    "        inorder_traversal(root.right)"
   ]
  },
  {
   "cell_type": "markdown",
   "metadata": {},
   "source": [
    "## Preorder Traversal:\n",
    "\n",
    "* Visit the root \n",
    "* Traverse the left subtree \n",
    "* Traverser the right subtree "
   ]
  },
  {
   "cell_type": "code",
   "execution_count": 3,
   "metadata": {},
   "outputs": [],
   "source": [
    "def preorder_traversal(root):\n",
    "    if root:\n",
    "        print(root.key)\n",
    "        preorder_traversal(root.left)\n",
    "        preorder_traversal(root.right)"
   ]
  },
  {
   "cell_type": "markdown",
   "metadata": {},
   "source": [
    "## Postorder Traversal:\n",
    "\n",
    "* Traverse the left subtree \n",
    "* Traverse the right subtree \n",
    "* Visit the root "
   ]
  },
  {
   "cell_type": "code",
   "execution_count": 4,
   "metadata": {},
   "outputs": [],
   "source": [
    "def postorder_traversal(root):\n",
    "    if root:\n",
    "        postorder_traversal(root.left)\n",
    "        postorder_traversal(root.right)\n",
    "        print(root.key)"
   ]
  },
  {
   "cell_type": "code",
   "execution_count": 7,
   "metadata": {},
   "outputs": [],
   "source": [
    "root = Node(1)\n",
    "root.left = Node(2)\n",
    "root.right = Node(3)\n",
    "root.left.left = Node(4)\n",
    "root.left.right = Node(5)"
   ]
  },
  {
   "cell_type": "code",
   "execution_count": 8,
   "metadata": {},
   "outputs": [
    {
     "name": "stdout",
     "output_type": "stream",
     "text": [
      "Preorder traversal: \n",
      "1\n",
      "2\n",
      "4\n",
      "5\n",
      "3\n"
     ]
    }
   ],
   "source": [
    "print('Preorder traversal: ')\n",
    "preorder_traversal(root)"
   ]
  },
  {
   "cell_type": "code",
   "execution_count": 9,
   "metadata": {},
   "outputs": [
    {
     "name": "stdout",
     "output_type": "stream",
     "text": [
      "Inorder traversal:\n",
      "4\n",
      "2\n",
      "5\n",
      "1\n",
      "3\n"
     ]
    }
   ],
   "source": [
    "print('Inorder traversal:')\n",
    "inorder_traversal(root)"
   ]
  },
  {
   "cell_type": "code",
   "execution_count": 10,
   "metadata": {},
   "outputs": [
    {
     "name": "stdout",
     "output_type": "stream",
     "text": [
      "Postorder traversal: \n",
      "4\n",
      "5\n",
      "2\n",
      "3\n",
      "1\n"
     ]
    }
   ],
   "source": [
    "print('Postorder traversal: ')\n",
    "postorder_traversal(root)"
   ]
  },
  {
   "cell_type": "code",
   "execution_count": null,
   "metadata": {},
   "outputs": [],
   "source": []
  }
 ],
 "metadata": {
  "kernelspec": {
   "display_name": "Python 3",
   "language": "python",
   "name": "python3"
  },
  "language_info": {
   "codemirror_mode": {
    "name": "ipython",
    "version": 3
   },
   "file_extension": ".py",
   "mimetype": "text/x-python",
   "name": "python",
   "nbconvert_exporter": "python",
   "pygments_lexer": "ipython3",
   "version": "3.7.6"
  }
 },
 "nbformat": 4,
 "nbformat_minor": 4
}
