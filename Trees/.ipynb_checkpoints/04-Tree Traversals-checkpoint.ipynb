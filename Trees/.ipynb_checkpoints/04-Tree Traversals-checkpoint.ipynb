{
 "cells": [
  {
   "cell_type": "markdown",
   "metadata": {},
   "source": [
    "## Tree Traversals:\n",
    "\n",
    "There are three commonly used pattern to visit all the nodes in a tree.\n",
    "The difference b/w these patterns is the order in which ech node is visited; __Traversal__.\n",
    "\n",
    "The three traversals we will look at are called __preorder, inorder__ and __postorder__.\n",
    "\n",
    "In a __preorder__ traversal, we visit the root node first, and then recursively do a preorder traversal of the left subtree, followed by a recursive preorder traversal of the right sub-tree.\n",
    "\n",
    "In an __inorder__ traversal, we recursively do an inorder traversal on the left sub-tree, visit the root node and finally do a recursive inorder traversal of the right sub-tree.\n",
    "\n",
    "In a __postorder__ traversal, we recursively do a postorder traversal of the left subtree and the right subtree followed by a visit to the root node."
   ]
  }
 ],
 "metadata": {
  "kernelspec": {
   "display_name": "Python 3",
   "language": "python",
   "name": "python3"
  },
  "language_info": {
   "codemirror_mode": {
    "name": "ipython",
    "version": 3
   },
   "file_extension": ".py",
   "mimetype": "text/x-python",
   "name": "python",
   "nbconvert_exporter": "python",
   "pygments_lexer": "ipython3",
   "version": "3.7.6"
  }
 },
 "nbformat": 4,
 "nbformat_minor": 4
}
