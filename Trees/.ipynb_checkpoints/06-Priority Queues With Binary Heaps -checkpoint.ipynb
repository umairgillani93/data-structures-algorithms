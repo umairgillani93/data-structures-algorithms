{
 "cells": [
  {
   "cell_type": "markdown",
   "metadata": {},
   "source": [
    "## Priority Queue:\n",
    "\n",
    "One important variation of a __queue__ is called _Priority queue_. \n",
    "A _Priority queue_ acts like a _queue_ in that you dequeue an item by removing it from front. However, in a _priority queue_ the logical order of items inside a queue is determined by their priority.\n",
    "\n",
    "The highest priority items are at the front of the queue, and the lowers priority items are at the back. \n",
    "\n",
    "When you _enqueue_ an item on a priority queue, the new item may move all the way to the front.\n",
    "\n",
    "The _classic_ way to implement a _priority queue_ is using a data structure called __binary heap__.\n",
    "\n",
    "A __Binary heap__ will allow us both _enqueue_ and _dequeue_ items in __O(logn)__. The _binary heap_ has two common variations: \n",
    "* _min heap_ in which the smallest key is always at the front and _max heap_ in which the largest key is always at the  front"
   ]
  },
  {
   "cell_type": "code",
   "execution_count": null,
   "metadata": {},
   "outputs": [],
   "source": []
  }
 ],
 "metadata": {
  "kernelspec": {
   "display_name": "Python 3",
   "language": "python",
   "name": "python3"
  },
  "language_info": {
   "codemirror_mode": {
    "name": "ipython",
    "version": 3
   },
   "file_extension": ".py",
   "mimetype": "text/x-python",
   "name": "python",
   "nbconvert_exporter": "python",
   "pygments_lexer": "ipython3",
   "version": "3.7.6"
  }
 },
 "nbformat": 4,
 "nbformat_minor": 4
}
