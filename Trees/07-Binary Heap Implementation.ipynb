{
 "cells": [
  {
   "cell_type": "code",
   "execution_count": 5,
   "metadata": {},
   "outputs": [],
   "source": [
    "class BinaryHeap:\n",
    "    def __init__(self):\n",
    "        \"\"\"initiates the heap as a list having item 0, at first index\n",
    "        and having current size 0\"\"\"\n",
    "        self.heap_list = [0]\n",
    "        self.current_size = 0\n",
    "        \n",
    "    def percup(self, i):\n",
    "        while i // 2 > 0:\n",
    "            if self.heap_list[i] < self.heap_list[i // 2]:\n",
    "                tmp = self.head_list[i//2]\n",
    "                self.head_list[i//2] = self.heap_list[i]\n",
    "                self.heap_list[i] = tmp\n",
    "            i = i //2\n",
    "            \n",
    "    def insert(self, k):\n",
    "        \"\"\"inserts new item in binary heap, \n",
    "        later we'll check if it maintains heap structure\"\"\"\n",
    "        self.heap_list.append(k)\n",
    "        self.current_size = self.current_size + 1\n",
    "        self.percup(self.current_size)\n",
    "        \n",
    "    def percdown(self, i):\n",
    "        \"\"\"percolates the node down the tree\"\"\"\n",
    "        while (i * 2) <= self.current_size:\n",
    "            mc = self.min_child(i)\n",
    "            if self.heap_list[i] > self.heap_list[mc]:\n",
    "                tmp = self.head_list[i]\n",
    "                self.heap_list[i] = self.head_list[mc]\n",
    "                self.heap_list[mc] = tmp\n",
    "                \n",
    "            i = mc\n",
    "            \n",
    "    def min_child(self, i):\n",
    "        if i * 2 + 1 > self.current_size:\n",
    "            return i * 2 \n",
    "        \n",
    "        else:\n",
    "            if self.heap_list[i*2] < self.heap_list[i*2+1]:\n",
    "                return i * 2\n",
    "            else:\n",
    "                return i * 2 + 1\n",
    "        \n",
    "    def delMin(self):\n",
    "        \"\"\"since the heap property requires that the root \n",
    "        of the tree be the smallest item in the tree, finding \n",
    "        the minimum item is easy.\n",
    "        The hard part is restoring compliance with\n",
    "        the heap structure and heap order properties after\n",
    "        the root has been removed\"\"\"\n",
    "        retval = self.head_list[1]\n",
    "        self.heap_list[1] = self.heap_list[self.current_size]\n",
    "        self.current_size = self.current_size - 1\n",
    "        self.heap_list.pop()\n",
    "        self.percdown(1)\n",
    "        \n",
    "        return retval"
   ]
  },
  {
   "cell_type": "code",
   "execution_count": null,
   "metadata": {},
   "outputs": [],
   "source": []
  }
 ],
 "metadata": {
  "kernelspec": {
   "display_name": "Python 3",
   "language": "python",
   "name": "python3"
  },
  "language_info": {
   "codemirror_mode": {
    "name": "ipython",
    "version": 3
   },
   "file_extension": ".py",
   "mimetype": "text/x-python",
   "name": "python",
   "nbconvert_exporter": "python",
   "pygments_lexer": "ipython3",
   "version": "3.7.6"
  }
 },
 "nbformat": 4,
 "nbformat_minor": 4
}
