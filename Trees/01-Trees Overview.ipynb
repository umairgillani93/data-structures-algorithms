{
 "cells": [
  {
   "cell_type": "markdown",
   "metadata": {},
   "source": [
    "## Trees:\n",
    "\n",
    "A __Tree__ data structure has a root, branches and leaves. The difference b/w a computer science tree and a natural tree is, tree data structure has it's root at the top and it's leaves on the bottom.\n",
    "\n",
    "Another property of tree data structure is that, all of the _children_ of one node are independent of the children of another node, and each leave node is unique.\n",
    "\n",
    "A great example of _Tree data structure_ is file system. In a file system, directories or folders are structured as tree. Another example is __HTML__.\n",
    "\n",
    "## Node:\n",
    "\n",
    "A node is a fundamental part of a tree. It can have a name, which we call the __key__. A node may also have additional information. We call this additional information the __payload__\n",
    "\n",
    "## Edge:\n",
    "\n",
    "An __Edge__ is also a fundamental part of a tree. An Edge connects two nodes to show that there is a relationship between them.\n",
    "\n",
    "Every node except the __root__ is connected by exactly one incoming edge from another  node. Each node may have several outgoing edges.\n",
    "\n",
    "## Path:\n",
    "\n",
    "A __path__ is an ordered list of nodes that are connected by the edges.\n",
    "for example: mammals -> carnivora -> felidae -> felis is a path.\n",
    "\n",
    "## Children:\n",
    "\n",
    "The set of nodes \"c\" that have incoming edges from the same node are said to be the _Children_ of that Node.\n",
    "\n",
    "## Parent:\n",
    "\n",
    "A node is the parent of all nodes, if connects to with outgoing edges.\n",
    "\n",
    "## Sibling:\n",
    "\n",
    "Nodes in the tree that are children of the same parent are said to be siblings.\n",
    "\n",
    "## SubTree:\n",
    "\n",
    "A sub-tree is a set of nodes and edges comprised of a parent and all the descendants of that parent.\n",
    "\n",
    "## Leaf Node:\n",
    "\n",
    "A leaf-node is a node, that has node children."
   ]
  },
  {
   "cell_type": "markdown",
   "metadata": {},
   "source": [
    "## Level:\n",
    "\n",
    "The level of a node \"n\" is the number of edges on the path from the root node to n.\n",
    "\n",
    "## Height:\n",
    "\n",
    "The height of a tree is equal to the maximum level of any node in the tree.\n",
    "\n",
    "A tree  is either empty or consists of a root and zero or more subtrees, each of which is also a tree.\n",
    "The root of each subtree is connected to the root of the parent tree by an edge.\n"
   ]
  },
  {
   "cell_type": "code",
   "execution_count": null,
   "metadata": {},
   "outputs": [],
   "source": []
  }
 ],
 "metadata": {
  "kernelspec": {
   "display_name": "Python 3",
   "language": "python",
   "name": "python3"
  },
  "language_info": {
   "codemirror_mode": {
    "name": "ipython",
    "version": 3
   },
   "file_extension": ".py",
   "mimetype": "text/x-python",
   "name": "python",
   "nbconvert_exporter": "python",
   "pygments_lexer": "ipython3",
   "version": "3.7.6"
  }
 },
 "nbformat": 4,
 "nbformat_minor": 4
}
