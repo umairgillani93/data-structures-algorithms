{
 "cells": [
  {
   "cell_type": "code",
   "execution_count": 11,
   "metadata": {},
   "outputs": [
    {
     "data": {
      "text/plain": [
       "[(3, 1)]"
      ]
     },
     "execution_count": 11,
     "metadata": {},
     "output_type": "execute_result"
    }
   ],
   "source": [
    "def pair_sum(arr, sum_):\n",
    "    \n",
    "    pairs_arr = []\n",
    "    \n",
    "    for n in range(len(arr)):\n",
    "        first_index = arr[n]\n",
    "        for item in arr:\n",
    "            pair_sum = first_index + item\n",
    "            if pair_sum == sum_:\n",
    "                pairs_arr.append((first_index, item))\n",
    "                break\n",
    "            break\n",
    "        \n",
    "    return pairs_arr\n",
    "        \n",
    "pair_sum([1,3,2,2], 4)"
   ]
  },
  {
   "cell_type": "code",
   "execution_count": null,
   "metadata": {},
   "outputs": [],
   "source": []
  }
 ],
 "metadata": {
  "kernelspec": {
   "display_name": "Python 3",
   "language": "python",
   "name": "python3"
  },
  "language_info": {
   "codemirror_mode": {
    "name": "ipython",
    "version": 3
   },
   "file_extension": ".py",
   "mimetype": "text/x-python",
   "name": "python",
   "nbconvert_exporter": "python",
   "pygments_lexer": "ipython3",
   "version": "3.7.6"
  }
 },
 "nbformat": 4,
 "nbformat_minor": 4
}
