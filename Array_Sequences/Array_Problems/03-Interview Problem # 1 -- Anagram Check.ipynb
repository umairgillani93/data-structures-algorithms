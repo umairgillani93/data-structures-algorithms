{
 "cells": [
  {
   "cell_type": "code",
   "execution_count": 11,
   "metadata": {},
   "outputs": [
    {
     "data": {
      "text/plain": [
       "True"
      ]
     },
     "execution_count": 11,
     "metadata": {},
     "output_type": "execute_result"
    }
   ],
   "source": [
    "def anagram_check_1(string_1, string_2):\n",
    "    \n",
    "    string_1 = string_1.replace(' ', '')\n",
    "    string_2 = string_2.replace(' ', '')\n",
    "    \n",
    "    \n",
    "    return sorted(string_1) == sorted(string_2)\n",
    "\n",
    "anagram_check('clint eastwood', 'old west action')\n",
    "\n",
    "\n",
    "def anagram_check_2(string_1, string_2):\n",
    "    string_1 = string_1.replace(' ','')\n",
    "    string_2 = string_2.replace(' ', '')\n",
    "    \n",
    "    # Base case\n",
    "    if len(string_1) != len(string_2):\n",
    "        return False\n",
    "    \n",
    "    COUNT = {}\n",
    "    \n",
    "    for letter in string_1:\n",
    "        if letter in COUNT:\n",
    "            COUNT[letter] += 1\n",
    "            \n",
    "        else:\n",
    "            COUNT[letter] = 1\n",
    "            \n",
    "    for letter in string_2:\n",
    "        if letter in COUNT:\n",
    "            COUNT[letter] -= 1\n",
    "            \n",
    "        else:\n",
    "            COUNT[letter] = 1\n",
    "            \n",
    "    for k in COUNT:\n",
    "        if COUNT[k] == 0:\n",
    "            return True \n",
    "        \n",
    "    return False\n",
    "            \n",
    "anagram_check_2('clint eastwood', 'old west action')"
   ]
  },
  {
   "cell_type": "code",
   "execution_count": null,
   "metadata": {},
   "outputs": [],
   "source": []
  }
 ],
 "metadata": {
  "kernelspec": {
   "display_name": "Python 3",
   "language": "python",
   "name": "python3"
  },
  "language_info": {
   "codemirror_mode": {
    "name": "ipython",
    "version": 3
   },
   "file_extension": ".py",
   "mimetype": "text/x-python",
   "name": "python",
   "nbconvert_exporter": "python",
   "pygments_lexer": "ipython3",
   "version": "3.7.6"
  }
 },
 "nbformat": 4,
 "nbformat_minor": 4
}
