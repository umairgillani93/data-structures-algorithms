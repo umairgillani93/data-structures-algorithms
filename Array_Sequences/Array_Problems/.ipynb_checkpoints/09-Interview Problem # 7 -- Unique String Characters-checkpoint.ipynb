{
 "cells": [
  {
   "cell_type": "code",
   "execution_count": 2,
   "metadata": {},
   "outputs": [
    {
     "data": {
      "text/plain": [
       "['t', 's', 'b']"
      ]
     },
     "execution_count": 2,
     "metadata": {},
     "output_type": "execute_result"
    }
   ],
   "source": [
    "def find_unique(s):\n",
    "    char_count = {}\n",
    "    uniques = []\n",
    "    for c in s:\n",
    "        if c in char_count:\n",
    "            char_count[c] += 1\n",
    "        else:\n",
    "            char_count[c] = 1\n",
    "            \n",
    "    for k, v in char_count.items():\n",
    "        if v == 1:\n",
    "            uniques.append(k)\n",
    "            \n",
    "    return uniques\n",
    "\n",
    "find_unique('atsaab')"
   ]
  },
  {
   "cell_type": "code",
   "execution_count": null,
   "metadata": {},
   "outputs": [],
   "source": []
  }
 ],
 "metadata": {
  "kernelspec": {
   "display_name": "Python 3",
   "language": "python",
   "name": "python3"
  },
  "language_info": {
   "codemirror_mode": {
    "name": "ipython",
    "version": 3
   },
   "file_extension": ".py",
   "mimetype": "text/x-python",
   "name": "python",
   "nbconvert_exporter": "python",
   "pygments_lexer": "ipython3",
   "version": "3.7.6"
  }
 },
 "nbformat": 4,
 "nbformat_minor": 2
}
