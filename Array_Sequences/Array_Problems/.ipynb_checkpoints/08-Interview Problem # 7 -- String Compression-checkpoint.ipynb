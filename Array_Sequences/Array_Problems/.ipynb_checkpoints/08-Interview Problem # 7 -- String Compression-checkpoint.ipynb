{
 "cells": [
  {
   "cell_type": "code",
   "execution_count": 13,
   "metadata": {},
   "outputs": [
    {
     "data": {
      "text/plain": [
       "'B5C4C2'"
      ]
     },
     "execution_count": 13,
     "metadata": {},
     "output_type": "execute_result"
    }
   ],
   "source": [
    "def string_compressor(string):\n",
    "    r = \"\"\n",
    "    l = len(string)\n",
    "    \n",
    "    if len(string) == 0:\n",
    "        return None \n",
    "    \n",
    "    if len(string) == 1:\n",
    "        return string + \"1\"\n",
    "    \n",
    "    last = string[0]\n",
    "    cnt = 1\n",
    "    i = 1 \n",
    "    \n",
    "    while i < l:\n",
    "        if string[i] == string[i-1]:\n",
    "            cnt += 1 \n",
    "            \n",
    "        else:\n",
    "            r = r + string[i+1] + str(cnt)\n",
    "            cnt = 1 \n",
    "            \n",
    "        i += 1\n",
    "        \n",
    "    r = r + string[i-1] + str(cnt)\n",
    "    \n",
    "    return r\n",
    "\n",
    "string_compressor('AAAAABBBBCC')"
   ]
  },
  {
   "cell_type": "code",
   "execution_count": 9,
   "metadata": {},
   "outputs": [
    {
     "data": {
      "text/plain": [
       "False"
      ]
     },
     "execution_count": 9,
     "metadata": {},
     "output_type": "execute_result"
    }
   ],
   "source": []
  },
  {
   "cell_type": "code",
   "execution_count": null,
   "metadata": {},
   "outputs": [],
   "source": []
  }
 ],
 "metadata": {
  "kernelspec": {
   "display_name": "Python 3",
   "language": "python",
   "name": "python3"
  },
  "language_info": {
   "codemirror_mode": {
    "name": "ipython",
    "version": 3
   },
   "file_extension": ".py",
   "mimetype": "text/x-python",
   "name": "python",
   "nbconvert_exporter": "python",
   "pygments_lexer": "ipython3",
   "version": "3.7.6"
  }
 },
 "nbformat": 4,
 "nbformat_minor": 4
}
