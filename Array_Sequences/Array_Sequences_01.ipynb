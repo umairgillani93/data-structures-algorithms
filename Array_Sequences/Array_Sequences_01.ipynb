{
 "cells": [
  {
   "cell_type": "markdown",
   "metadata": {},
   "source": [
    "## Low Level Arrays Overview:\n",
    "\n",
    "* Compute hardware is designed, in theory, so that any __byte__ of the main memory can be efficiently accessed.\n",
    "* Computer's main memory performs as __random access memory (RAM)__\n",
    "* Just as easy to retrieve bye #8674309 as it is to retrieve bye #390\n",
    "* Individual byte of memory can be stored or retrieved in O(1) time.\n",
    "\n",
    "A group of related variables can be stored one after another in a contiguous portion of the computer's memory. We denote such representation as an __Array__. Moreover, a text __string__ is stored as an ordered sequence of individual characters. __Python__ internally represents each __Unicode__ character with 16 bits (i.e 2 bytes).\n",
    "\n",
    "So, __six-character__ string, such as _SAMPLE_ would be stored in __12 consecutive__ bytes of memory! \n",
    "\n",
    "* Each cell of an Array uses the same number of bytes.\n",
    "* This allows any cell to be accessed in constant time\n",
    "* Memory Address = __start + (cellsize) * (index)__"
   ]
  },
  {
   "cell_type": "markdown",
   "metadata": {},
   "source": [
    "## Referential Arrays:\n",
    "\n",
    "Imagine we have 100 students names with ID numbers. Each cell of the Array needs to have the same number of bytes. \n",
    "\n",
    "How can we avoid having to have te series of names?\n",
    "\n",
    "Well, we can use an array of object References. That means, in __Referential Arrays__ we have an index associated for each object, referencing to the object!\n",
    "\n",
    "## Dynamic Arrays:\n",
    "\n",
    "A list instance often has greater capacity than current length. If elements keep getting appended, eventually this extra space runs out.\n",
    "\n",
    "Let's see an example!"
   ]
  },
  {
   "cell_type": "code",
   "execution_count": 10,
   "metadata": {},
   "outputs": [
    {
     "name": "stdout",
     "output_type": "stream",
     "text": [
      "Length:   0; Size in bytes:   72 \n",
      "Length:   1; Size in bytes:  104 \n",
      "Length:   2; Size in bytes:  104 \n",
      "Length:   3; Size in bytes:  104 \n",
      "Length:   4; Size in bytes:  104 \n",
      "Length:   5; Size in bytes:  136 \n",
      "Length:   6; Size in bytes:  136 \n",
      "Length:   7; Size in bytes:  136 \n",
      "Length:   8; Size in bytes:  136 \n",
      "Length:   9; Size in bytes:  200 \n",
      "Length:  10; Size in bytes:  200 \n",
      "Length:  11; Size in bytes:  200 \n",
      "Length:  12; Size in bytes:  200 \n",
      "Length:  13; Size in bytes:  200 \n",
      "Length:  14; Size in bytes:  200 \n"
     ]
    }
   ],
   "source": [
    "import sys # Lets us get the size of an Array\n",
    "\n",
    "# Number of items in the list\n",
    "n = 15\n",
    "\n",
    "data = []\n",
    "\n",
    "for i in range(n):\n",
    "    \n",
    "    # Number of elements \n",
    "    a = len(data)\n",
    "    \n",
    "    # Actual size in bytes \n",
    "    b = sys.getsizeof(data)\n",
    "    \n",
    "    print(\"Length: {0:3d}; Size in bytes: {1:4d} \".format(a, b))\n",
    "    \n",
    "    # increase length by one\n",
    "    data.append(n)\n",
    "    \n",
    "# Notice as the length of the Array increase the size in bytes also increases in chunks\n",
    "# And this is because Python has already set an estimated size of the Array that we are going to use\n",
    "# This shows the Dynamic behaviour of the Arrays"
   ]
  },
  {
   "cell_type": "markdown",
   "metadata": {},
   "source": []
  }
 ],
 "metadata": {
  "kernelspec": {
   "display_name": "Python 3",
   "language": "python",
   "name": "python3"
  },
  "language_info": {
   "codemirror_mode": {
    "name": "ipython",
    "version": 3
   },
   "file_extension": ".py",
   "mimetype": "text/x-python",
   "name": "python",
   "nbconvert_exporter": "python",
   "pygments_lexer": "ipython3",
   "version": "3.7.4"
  }
 },
 "nbformat": 4,
 "nbformat_minor": 2
}
