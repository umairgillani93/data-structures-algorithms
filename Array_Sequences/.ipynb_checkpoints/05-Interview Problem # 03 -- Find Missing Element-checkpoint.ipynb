{
 "cells": [
  {
   "cell_type": "code",
   "execution_count": null,
   "metadata": {},
   "outputs": [],
   "source": [
    "def find_missing(arr_1, arr_1):\n",
    "    arr_1.sort()\n",
    "    arr_2.sort()\n",
    "\n",
    "    for num_1, num_2 in zip(arr_1, arr_1):\n",
    "        if num_1 != num_2:\n",
    "            return num_1\n",
    "        \n",
    "    return arr_1[-1]\n",
    "find_missing([1,2,3,4,5], [1,2,4,5])"
   ]
  },
  {
   "cell_type": "code",
   "execution_count": null,
   "metadata": {},
   "outputs": [],
   "source": []
  }
 ],
 "metadata": {
  "kernelspec": {
   "display_name": "Python 3",
   "language": "python",
   "name": "python3"
  },
  "language_info": {
   "codemirror_mode": {
    "name": "ipython",
    "version": 3
   },
   "file_extension": ".py",
   "mimetype": "text/x-python",
   "name": "python",
   "nbconvert_exporter": "python",
   "pygments_lexer": "ipython3",
   "version": "3.7.6"
  }
 },
 "nbformat": 4,
 "nbformat_minor": 4
}
