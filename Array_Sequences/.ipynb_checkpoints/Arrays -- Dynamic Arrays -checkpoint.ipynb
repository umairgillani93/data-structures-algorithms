{
 "cells": [
  {
   "cell_type": "markdown",
   "metadata": {},
   "source": [
    "## Dynamic Arrays:\n",
    "\n",
    "In Python the lists are dynamic in nature. Meaning, we don't have to specify the size of a list, instead we just keep on adding values and it automatically makes the space dynamic. \n",
    "\n",
    "So, a list instance often has greater capacity than current length. \n",
    "\n",
    "__But__ if we keep on adding the values inside this list, eventually this extra space runs out :( \n",
    "\n",
    "Let's code an example out, for better understanding!"
   ]
  },
  {
   "cell_type": "code",
   "execution_count": 1,
   "metadata": {},
   "outputs": [
    {
     "name": "stdout",
     "output_type": "stream",
     "text": [
      "Length:   0; Size in bytes:   64\n",
      "Length:   1; Size in bytes:   96\n",
      "Length:   2; Size in bytes:   96\n",
      "Length:   3; Size in bytes:   96\n",
      "Length:   4; Size in bytes:   96\n",
      "Length:   5; Size in bytes:  128\n",
      "Length:   6; Size in bytes:  128\n",
      "Length:   7; Size in bytes:  128\n",
      "Length:   8; Size in bytes:  128\n",
      "Length:   9; Size in bytes:  192\n"
     ]
    }
   ],
   "source": [
    "import sys \n",
    "\n",
    "n = 10\n",
    "data = []\n",
    "\n",
    "for c in range(n):\n",
    "    \n",
    "    # get length of data \n",
    "    a = len(data)\n",
    "    \n",
    "    b = sys.getsizeof(data)\n",
    "    \n",
    "    print('Length: {0:3d}; Size in bytes: {1:4d}'.format(a, b))\n",
    "    \n",
    "    data.append(n)\n"
   ]
  },
  {
   "cell_type": "markdown",
   "metadata": {},
   "source": [
    "The whole idea here is, as we append value in Python list, it grabs some extra space along with the new item, keeping in view that it may need more values to append inside in future.\n",
    "\n",
    "Also, the Python list class provides a very optimized implementation of Dynamic arrays."
   ]
  },
  {
   "cell_type": "code",
   "execution_count": null,
   "metadata": {},
   "outputs": [],
   "source": []
  }
 ],
 "metadata": {
  "kernelspec": {
   "display_name": "Python 3",
   "language": "python",
   "name": "python3"
  },
  "language_info": {
   "codemirror_mode": {
    "name": "ipython",
    "version": 3
   },
   "file_extension": ".py",
   "mimetype": "text/x-python",
   "name": "python",
   "nbconvert_exporter": "python",
   "pygments_lexer": "ipython3",
   "version": "3.7.6"
  }
 },
 "nbformat": 4,
 "nbformat_minor": 4
}
