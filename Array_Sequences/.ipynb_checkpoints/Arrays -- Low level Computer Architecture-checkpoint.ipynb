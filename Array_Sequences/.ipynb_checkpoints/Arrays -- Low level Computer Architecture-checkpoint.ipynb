{
 "cells": [
  {
   "cell_type": "markdown",
   "metadata": {},
   "source": [
    "## Computer Architecture:\n",
    "\n",
    "* Information in computers is stored in bits / bytes\n",
    "* 1 byte = 8 bits\n",
    "* Each byte has specifice / unique address assigned to it\n",
    "* Computer hardware is designed, in theory, so that any byte of the main memory can be efficiently accessed\n",
    "* __Invdividual byte of memory can be stored or retrieved in O(1) -- Constant time__\n",
    "\n",
    "* __Programming language keeps track of the association b/w and identifier and the memory address__\n",
    "\n",
    "### What is an Array:\n",
    "\n",
    "* A group of related variables can be stored one after the other in a contiguous portion of the computer's memory, such representaion is called an Array!\n",
    "* PYthon internally represents each Unicode character with __16-bits__ (2-bytes).\n",
    "* Each location inside an Array is called a cell\n",
    "* Each cell of an Array uses same number of bytes\n",
    "* Allows each cell to access in O(1) -- Constant time\n",
    "* Appropriate memory address can be computed using the following relate .. \n",
    "\n",
    "__start + (cell_size)(index)__"
   ]
  },
  {
   "cell_type": "markdown",
   "metadata": {},
   "source": [
    "## Referential Arrays:\n",
    "\n",
    "Referential arrays come to the play when we want to store the information of let's say 100 students.\n",
    "NOw each students will be having a name of different string lenght, and let's say we are bound to use same cell size for storing the names of each student. \n",
    "\n",
    "Here, we can use __Referential arrays__ for that purpose, which will be referencing each student ID-wise. __And each ID element would be a reference to the Student name__ \n",
    "\n",
    "A very common case of __Referential arrays__ is when we slice a Python list. The new list formed is basically the instance of existing list, and it's indexes refers to the original list indexes from where it'g got slice \n",
    "\n",
    "For example, when we slice a list from list[2:5] the new list indexes say new_list[0] = lis[2], new_list[1] = list[3], new_list[3] = list[4] refers to the indexes of original list\n",
    "\n",
    "When we __shallow copy__ a list, means we just refer the indexes of original list to the backup list.\n",
    "\n",
    "And when we create __deep copy__ it means we create a whole new list with new elements. This is done in case we have a list of __mutable__ type, in case of Python!\n",
    "\n",
    "A great example of Referential arrays is discussed below ..\n",
    "\n",
    "counters = [0] * 8 --> this means we are not creating 8 different integers having values = 0, \n",
    "instead we are just refering 8 indexes a same object i.e 0. And if we go like ..  \n",
    "\n",
    "counters[2] += 1; that also doesn't change the value of existing integer, instead it references that particualar index \n",
    "an object = 1.\n",
    "\n",
    "So, in a nut shell, whenever we make shallow copy of a list, we just changes the reference objects correponding to the list and not the original lists!"
   ]
  },
  {
   "cell_type": "code",
   "execution_count": null,
   "metadata": {},
   "outputs": [],
   "source": []
  }
 ],
 "metadata": {
  "kernelspec": {
   "display_name": "Python 3",
   "language": "python",
   "name": "python3"
  },
  "language_info": {
   "codemirror_mode": {
    "name": "ipython",
    "version": 3
   },
   "file_extension": ".py",
   "mimetype": "text/x-python",
   "name": "python",
   "nbconvert_exporter": "python",
   "pygments_lexer": "ipython3",
   "version": "3.7.6"
  }
 },
 "nbformat": 4,
 "nbformat_minor": 4
}
