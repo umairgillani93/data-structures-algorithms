{
 "cells": [
  {
   "cell_type": "markdown",
   "metadata": {},
   "source": [
    "Lets go ahead and apply Big-O forms on __Python Data Structures__ and get a better idea of how it works \n",
    "for Python data structures.\n",
    "\n",
    "Let's try these out with the lists first!"
   ]
  },
  {
   "cell_type": "markdown",
   "metadata": {},
   "source": [
    "## Lists:"
   ]
  },
  {
   "cell_type": "code",
   "execution_count": 1,
   "metadata": {},
   "outputs": [],
   "source": [
    "def func1():\n",
    "    l = []\n",
    "    \n",
    "    for n in range(10):\n",
    "        l = l + [n]\n",
    "        \n",
    "def func2():\n",
    "    l = []\n",
    "    \n",
    "    for n in range(10):\n",
    "        l.append(n)\n",
    "        \n",
    "def func3():\n",
    "    l = [n for n in range(10)]\n",
    "    \n",
    "\n",
    "def func4():\n",
    "    l = range(10)"
   ]
  },
  {
   "cell_type": "code",
   "execution_count": 3,
   "metadata": {},
   "outputs": [
    {
     "name": "stdout",
     "output_type": "stream",
     "text": [
      "2.08 µs ± 67.6 ns per loop (mean ± std. dev. of 7 runs, 1000000 loops each)\n",
      "1.59 µs ± 153 ns per loop (mean ± std. dev. of 7 runs, 1000000 loops each)\n",
      "1.14 µs ± 56.9 ns per loop (mean ± std. dev. of 7 runs, 1000000 loops each)\n",
      "415 ns ± 42.9 ns per loop (mean ± std. dev. of 7 runs, 1000000 loops each)\n"
     ]
    }
   ],
   "source": [
    "%timeit func1()\n",
    "%timeit func2()\n",
    "%timeit func3()\n",
    "%timeit func4() # most efficient method is built-in python range method"
   ]
  },
  {
   "cell_type": "markdown",
   "metadata": {},
   "source": [
    "## Dictionaries:\n",
    "\n",
    "Dictionaries in Python are the implementation of __hash tables__, and operate with __key-value__ pairs. \n",
    "\n",
    "Getting and setting items in dictionary are in constant time i.e having Big-O is O(1) -- Constant"
   ]
  },
  {
   "cell_type": "code",
   "execution_count": 5,
   "metadata": {},
   "outputs": [],
   "source": [
    "K = {\n",
    "    'first_name': 'Umair',\n",
    "    'middle_name': 'Shah',\n",
    "    'last_name': 'Gillani',\n",
    "    'age': 28,\n",
    "    'hobbies_interest':'Python programming',\n",
    "    'Profession': 'Data Science'\n",
    "}\n",
    "\n",
    "k"
   ]
  },
  {
   "cell_type": "code",
   "execution_count": null,
   "metadata": {},
   "outputs": [],
   "source": []
  }
 ],
 "metadata": {
  "kernelspec": {
   "display_name": "Python 3",
   "language": "python",
   "name": "python3"
  },
  "language_info": {
   "codemirror_mode": {
    "name": "ipython",
    "version": 3
   },
   "file_extension": ".py",
   "mimetype": "text/x-python",
   "name": "python",
   "nbconvert_exporter": "python",
   "pygments_lexer": "ipython3",
   "version": "3.7.6"
  }
 },
 "nbformat": 4,
 "nbformat_minor": 4
}
