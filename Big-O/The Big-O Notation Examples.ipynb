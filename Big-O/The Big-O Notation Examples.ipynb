{
 "cells": [
  {
   "cell_type": "markdown",
   "metadata": {},
   "source": [
    "## The Big-O Notation:"
   ]
  },
  {
   "cell_type": "markdown",
   "metadata": {},
   "source": [
    "We use the Big-O Notation to measure an estimate of **time** and **space** complexity of an algorithm.\n",
    "Big-O gives us the ratio of, how long a particular algorithm would take to run. \n",
    "\n",
    "Big-O has severals forms. We'll discuss each one-by-one.\n",
    "\n",
    "Let's code out some algorithms to get a bit more clear idea of how Big-O works"
   ]
  },
  {
   "cell_type": "code",
   "execution_count": 4,
   "metadata": {},
   "outputs": [],
   "source": [
    "# Algorithms # 1\n",
    "def sum1(n):\n",
    "    final_sum = 0\n",
    "    for num in range(n+1):\n",
    "        final_sum += num \n",
    "        \n",
    "    return final_sum\n",
    "\n",
    "# Algorithm # 2\n",
    "def sum2(n):\n",
    "    return (n * (n+1) // 2)"
   ]
  },
  {
   "cell_type": "code",
   "execution_count": 5,
   "metadata": {},
   "outputs": [
    {
     "data": {
      "text/plain": [
       "55"
      ]
     },
     "execution_count": 5,
     "metadata": {},
     "output_type": "execute_result"
    }
   ],
   "source": [
    "sum1(10)"
   ]
  },
  {
   "cell_type": "code",
   "execution_count": 6,
   "metadata": {},
   "outputs": [
    {
     "data": {
      "text/plain": [
       "55"
      ]
     },
     "execution_count": 6,
     "metadata": {},
     "output_type": "execute_result"
    }
   ],
   "source": [
    "sum2(10)"
   ]
  },
  {
   "cell_type": "code",
   "execution_count": 7,
   "metadata": {},
   "outputs": [
    {
     "name": "stdout",
     "output_type": "stream",
     "text": [
      "1.25 µs ± 95.4 ns per loop (mean ± std. dev. of 7 runs, 1000000 loops each)\n"
     ]
    }
   ],
   "source": [
    "%timeit sum1(10)"
   ]
  },
  {
   "cell_type": "code",
   "execution_count": 8,
   "metadata": {},
   "outputs": [
    {
     "name": "stdout",
     "output_type": "stream",
     "text": [
      "187 ns ± 10.6 ns per loop (mean ± std. dev. of 7 runs, 1000000 loops each)\n"
     ]
    }
   ],
   "source": [
    "%timeit sum2(10)"
   ]
  },
  {
   "cell_type": "markdown",
   "metadata": {},
   "source": [
    "Both these algorithms have differet time-complexity and offcourse Big-O.\n",
    "The first took **95.4ns** to run a loop, while the second one took only **10.6ns** to run"
   ]
  },
  {
   "cell_type": "markdown",
   "metadata": {},
   "source": [
    "## O(1) Constant:\n",
    "\n",
    "If we have a list of **n** values and we need to print only the first item of list.\n",
    "In this particular case, the Big-O will always be constant, because regardless of the size of that list, it'll only print that first item, making Big-O constant"
   ]
  },
  {
   "cell_type": "code",
   "execution_count": 9,
   "metadata": {},
   "outputs": [
    {
     "data": {
      "text/plain": [
       "1"
      ]
     },
     "execution_count": 9,
     "metadata": {},
     "output_type": "execute_result"
    }
   ],
   "source": [
    "def func_contant(lst):\n",
    "    return lst[0]\n",
    "\n",
    "func_contant([1,2,3])"
   ]
  },
  {
   "cell_type": "markdown",
   "metadata": {},
   "source": [
    "## O(n) Linear:\n",
    "\n",
    "The Big-O would be **linear** if we have a list, and we need to print all the items of that list once.\n",
    "This can also be said as, if we want to iterate over an array or iterable for once, the Big-O in that case would be __linear__"
   ]
  },
  {
   "cell_type": "code",
   "execution_count": 11,
   "metadata": {},
   "outputs": [
    {
     "name": "stdout",
     "output_type": "stream",
     "text": [
      "1\n",
      "2\n",
      "3\n",
      "4\n",
      "5\n"
     ]
    }
   ],
   "source": [
    "def func_linear(lst):\n",
    "    for num in lst:\n",
    "        print(num)\n",
    "        \n",
    "func_linear([1,2,3,4,5])"
   ]
  },
  {
   "cell_type": "markdown",
   "metadata": {},
   "source": [
    "##  O(n^2) Quadratic:\n",
    "\n",
    "Unlike linear, in case of __Quadratic Big-O__ we go ahead and apply nested __for loops__.\n",
    "Which means we have to go through __n*n__ if we have \"n\" items inside a list"
   ]
  },
  {
   "cell_type": "code",
   "execution_count": 12,
   "metadata": {},
   "outputs": [
    {
     "name": "stdout",
     "output_type": "stream",
     "text": [
      "1 1\n",
      "1 2\n",
      "1 3\n",
      "2 1\n",
      "2 2\n",
      "2 3\n",
      "3 1\n",
      "3 2\n",
      "3 3\n"
     ]
    }
   ],
   "source": [
    "def func_quad(lst):\n",
    "    for item_1 in lst:\n",
    "        for item_2 in lst:\n",
    "            print(item_1, item_2)\n",
    "            \n",
    "func_quad([1,2,3])"
   ]
  },
  {
   "cell_type": "markdown",
   "metadata": {},
   "source": [
    "## O(n^3) Cubic:\n",
    "\n",
    "And the __Cubic__ would be __fors__ nested inside each other."
   ]
  },
  {
   "cell_type": "code",
   "execution_count": 14,
   "metadata": {},
   "outputs": [
    {
     "name": "stdout",
     "output_type": "stream",
     "text": [
      "1 1 1\n",
      "1 1 2\n",
      "1 1 3\n",
      "1 2 1\n",
      "1 2 2\n",
      "1 2 3\n",
      "1 3 1\n",
      "1 3 2\n",
      "1 3 3\n",
      "2 1 1\n",
      "2 1 2\n",
      "2 1 3\n",
      "2 2 1\n",
      "2 2 2\n",
      "2 2 3\n",
      "2 3 1\n",
      "2 3 2\n",
      "2 3 3\n",
      "3 1 1\n",
      "3 1 2\n",
      "3 1 3\n",
      "3 2 1\n",
      "3 2 2\n",
      "3 2 3\n",
      "3 3 1\n",
      "3 3 2\n",
      "3 3 3\n"
     ]
    }
   ],
   "source": [
    "def func_cubic(lst):\n",
    "    for item_1 in lst:\n",
    "        for item_2 in lst:\n",
    "            for item_3 in lst:\n",
    "                print(item_1, item_2, item_3)\n",
    "                \n",
    "func_cubic([1,2,3])"
   ]
  },
  {
   "cell_type": "markdown",
   "metadata": {},
   "source": [
    "Now consider this function written below.\n",
    "In this case, eventhought we have use __liner Big-O i.e O(n)__ twice. This complexity is  still, linear. i.e __n + n__.\n",
    "And this is where we get to terms, dropping the __signifigant__ and __in-significant__ constants"
   ]
  },
  {
   "cell_type": "code",
   "execution_count": 17,
   "metadata": {},
   "outputs": [
    {
     "name": "stdout",
     "output_type": "stream",
     "text": [
      "1\n",
      "2\n",
      "3\n",
      "1\n",
      "2\n",
      "3\n",
      "None\n"
     ]
    }
   ],
   "source": [
    "def print_twice(lst):\n",
    "    for n in lst:\n",
    "        print(n)\n",
    "        \n",
    "    for n in lst:\n",
    "        print(n)\n",
    "        \n",
    "print(print_twice([1,2,3]))"
   ]
  },
  {
   "cell_type": "code",
   "execution_count": 20,
   "metadata": {},
   "outputs": [
    {
     "name": "stdout",
     "output_type": "stream",
     "text": [
      "0\n",
      "0\n",
      "1\n",
      "2\n",
      "3\n",
      "4\n",
      "hello world!\n",
      "hello world!\n",
      "hello world!\n",
      "hello world!\n",
      "hello world!\n",
      "hello world!\n",
      "hello world!\n",
      "hello world!\n",
      "hello world!\n",
      "hello world!\n"
     ]
    }
   ],
   "source": [
    "# NOw how about the big-O of this function\n",
    "def comp(lst):\n",
    "    print(lst[0])\n",
    "    mid_point = len(lst) // 2\n",
    "    for val in lst[:mid_point]:\n",
    "        print(val)\n",
    "    for x in range(10):\n",
    "        print('hello world!')\n",
    "        \n",
    "comp(list(range(10)))"
   ]
  },
  {
   "cell_type": "markdown",
   "metadata": {},
   "source": [
    "It seems like the __Big-O__ of above functions would be following:\n",
    "\n",
    "__O(1) + O(n/2) + O(n)__\n",
    "\n",
    "OR\n",
    "\n",
    "__O(1 + n/2 + 10)__\n",
    "\n",
    "Remember!\n",
    "if \"n\" is way to large, any number multiplying it won't matter. Because anything multiplied will __infinity__ is going to be __infinity__\n",
    "\n",
    "Comparing with our case, if \"n\" grows larger and larger, the rest of the numbers i.e 1/2, 1, and 10 won't really matter.\n",
    "And in case of list with size n approaching __infinity__ our __Big-O__ would be only __O(n)__\n"
   ]
  },
  {
   "cell_type": "markdown",
   "metadata": {},
   "source": [
    "## Worst Case VS Best Case Scenerios:\n",
    "\n",
    "Remember, many times in our interviews we are interested in __worst case__ and __best case__ scenerios of our algorithm.\n",
    "For this let's code out a problem to understand what these scenerios are."
   ]
  },
  {
   "cell_type": "code",
   "execution_count": 23,
   "metadata": {},
   "outputs": [
    {
     "data": {
      "text/plain": [
       "True"
      ]
     },
     "execution_count": 23,
     "metadata": {},
     "output_type": "execute_result"
    }
   ],
   "source": [
    "def matcher(lst, value):\n",
    "    for item in lst:\n",
    "        if item == value:\n",
    "            return True\n",
    "        \n",
    "    return False\n",
    "\n",
    "matcher([1,2,3], 3)"
   ]
  },
  {
   "cell_type": "markdown",
   "metadata": {},
   "source": [
    "Now, let's sum this up.. If we have the first value inside the list, that match our given value, we'll be having a __best case__ scenerio, and alternatively if we have the last value that matches with the given list, we'll have the __worst case__ scenerio\n",
    "\n",
    "best case: O(1)\n",
    "worst case: O(n)"
   ]
  },
  {
   "cell_type": "markdown",
   "metadata": {},
   "source": [
    "##  One last example:\n",
    "\n",
    "### Time Vs Space Complexity:\n",
    "\n",
    "Time and Space complexities of an algorithm could be different. \n",
    "\n",
    "Usually in interview, they ask about either time or space complexity. And, also the trade-off b/w both of them!\n",
    "\n",
    "But they can ask both, who knows! and you gotta prepare both of 'em!  \n",
    "\n",
    "Consider function written below.."
   ]
  },
  {
   "cell_type": "code",
   "execution_count": 26,
   "metadata": {},
   "outputs": [
    {
     "name": "stdout",
     "output_type": "stream",
     "text": [
      "1\n",
      "2\n",
      "3\n"
     ]
    }
   ],
   "source": [
    "def time_vs_space(lst):\n",
    "    \"\"\"This function has time complexity O(n) -- Linear\n",
    "    cuz it has to run 'n' times all the way to the end\n",
    "    but space complexity is O(1) Constant, cuz it's priting one string again and again.\"\"\"\n",
    "    \n",
    "    for item in lst:\n",
    "        print(item)\n",
    "        \n",
    "    \n",
    "        \n",
    "time_vs_space([1,2,3])"
   ]
  },
  {
   "cell_type": "code",
   "execution_count": null,
   "metadata": {},
   "outputs": [],
   "source": []
  }
 ],
 "metadata": {
  "kernelspec": {
   "display_name": "Python 3",
   "language": "python",
   "name": "python3"
  },
  "language_info": {
   "codemirror_mode": {
    "name": "ipython",
    "version": 3
   },
   "file_extension": ".py",
   "mimetype": "text/x-python",
   "name": "python",
   "nbconvert_exporter": "python",
   "pygments_lexer": "ipython3",
   "version": "3.7.6"
  }
 },
 "nbformat": 4,
 "nbformat_minor": 4
}
